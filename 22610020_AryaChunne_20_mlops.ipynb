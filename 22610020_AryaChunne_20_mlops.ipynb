{
 "cells": [
  {
   "cell_type": "code",
   "execution_count": null,
   "id": "260b5f94",
   "metadata": {},
   "outputs": [],
   "source": [
    "from sklearn.datasets import load_iris\n",
    "import matplotlib.pyplot as plt\n",
    "import seaborn as sns\n",
    "import pandas as pd"
   ]
  },
  {
   "cell_type": "code",
   "execution_count": null,
   "id": "b00fcc25",
   "metadata": {},
   "outputs": [],
   "source": [
    "iris= load_iris()\n",
    "X= iris.data()\n",
    "y= iris.target()\n",
    "iris_df = pd.DataFrame(data=X, columns=iris.feature_names)\n",
    "iris_df['target']"
   ]
  },
  {
   "cell_type": "code",
   "execution_count": null,
   "id": "c724b4a4",
   "metadata": {},
   "outputs": [],
   "source": [
    "print(\"Missing Values:\\n\", iris_df.isnull().sum())"
   ]
  },
  {
   "cell_type": "code",
   "execution_count": null,
   "id": "5073acc4",
   "metadata": {},
   "outputs": [],
   "source": [
    "print(\"Data Types:\\n\", iris_df.dtypes)\n",
    "print(\"Statistical Summary:\\n\", iris_df.describe())"
   ]
  },
  {
   "cell_type": "code",
   "execution_count": null,
   "id": "499084bc",
   "metadata": {},
   "outputs": [],
   "source": [
    "print(\"Correlation Matrix:\\n\", iris_df.corr())"
   ]
  },
  {
   "cell_type": "code",
   "execution_count": null,
   "id": "d3db11c7",
   "metadata": {},
   "outputs": [],
   "source": [
    "plt.figure(figsize=(10, 6))"
   ]
  },
  {
   "cell_type": "code",
   "execution_count": null,
   "id": "f31242e3",
   "metadata": {},
   "outputs": [],
   "source": [
    "sns.heatmap(iris_df.corr(), annot=True, cmap='coolwarm')\n",
    "plt.title('Correlation Matrix') \n",
    "plt.savefig('5th-correlation_matrix.png')\n",
    "plt.show()"
   ]
  },
  {
   "cell_type": "code",
   "execution_count": null,
   "id": "0a663e67",
   "metadata": {},
   "outputs": [],
   "source": []
  },
  {
   "cell_type": "code",
   "execution_count": null,
   "id": "756c79b7",
   "metadata": {},
   "outputs": [],
   "source": []
  },
  {
   "cell_type": "code",
   "execution_count": null,
   "id": "a056dc5b",
   "metadata": {},
   "outputs": [],
   "source": []
  },
  {
   "cell_type": "code",
   "execution_count": null,
   "id": "b5be69b3",
   "metadata": {},
   "outputs": [],
   "source": []
  }
 ],
 "metadata": {
  "kernelspec": {
   "display_name": "Python 3 (ipykernel)",
   "language": "python",
   "name": "python3"
  }
 },
 "nbformat": 4,
 "nbformat_minor": 5
}
